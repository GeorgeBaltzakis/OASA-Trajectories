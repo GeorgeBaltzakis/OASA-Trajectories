{
 "cells": [
  {
   "cell_type": "markdown",
   "metadata": {},
   "source": [
    "## George Baltzakis P18105"
   ]
  },
  {
   "cell_type": "code",
   "execution_count": 1,
   "metadata": {
    "collapsed": false,
    "jupyter": {
     "outputs_hidden": false
    },
    "pycharm": {
     "name": "#%%\n"
    }
   },
   "outputs": [],
   "source": [
    "import pandas as pd\n",
    "import numpy as np\n",
    "import geopandas as gpd\n",
    "import matplotlib.pyplot as plt\n",
    "from geopy import distance\n",
    "import calendar\n",
    "import helper\n",
    "import bokeh.palettes as bokeh_palettes\n",
    "from haversine import haversine\n",
    "from sklearn.neighbors import DistanceMetric\n",
    "\n",
    "import time"
   ]
  },
  {
   "cell_type": "code",
   "execution_count": 2,
   "metadata": {},
   "outputs": [],
   "source": [
    "import os, sys\n",
    "\n",
    "sys.path.append(os.path.join(os.path.expanduser('~'), 'ST-Visions-master'))\n",
    "import st_visualizer as st_visualizer\n",
    "import express as viz_express\n",
    "import geom_helper as viz_helper"
   ]
  },
  {
   "cell_type": "markdown",
   "metadata": {},
   "source": [
    "# <center>Import Data </center>"
   ]
  },
  {
   "cell_type": "code",
   "execution_count": 3,
   "metadata": {
    "collapsed": false,
    "jupyter": {
     "outputs_hidden": false
    },
    "pycharm": {
     "name": "#%%\n"
    }
   },
   "outputs": [],
   "source": [
    "# Import the three tables\n",
    "routes = pd.read_csv('bus_routes.csv', sep=';')\n",
    "stops = pd.read_csv('bus_stops.csv', sep=';')\n",
    "trajectories = pd.read_csv('bus_trajectories.csv', sep=',')\n",
    "\n",
    "# Drop Duplicates\n",
    "routes.drop_duplicates(inplace=True)\n",
    "stops.drop_duplicates(inplace=True)\n",
    "trajectories.drop_duplicates(inplace=True)"
   ]
  },
  {
   "cell_type": "markdown",
   "metadata": {},
   "source": [
    "## <center>First Look of tables</center>"
   ]
  },
  {
   "cell_type": "code",
   "execution_count": 4,
   "metadata": {},
   "outputs": [
    {
     "name": "stdout",
     "output_type": "stream",
     "text": [
      "ROUTES table\n",
      "<class 'pandas.core.frame.DataFrame'>\n",
      "Int64Index: 54551 entries, 0 to 54550\n",
      "Data columns (total 5 columns):\n",
      " #   Column               Non-Null Count  Dtype  \n",
      "---  ------               --------------  -----  \n",
      " 0   shape_id             54551 non-null  int64  \n",
      " 1   shape_pt_lat         54551 non-null  float64\n",
      " 2   shape_pt_lon         54551 non-null  float64\n",
      " 3   shape_pt_sequence    54551 non-null  int64  \n",
      " 4   shape_dist_traveled  52987 non-null  float64\n",
      "dtypes: float64(3), int64(2)\n",
      "memory usage: 2.5 MB\n"
     ]
    },
    {
     "data": {
      "text/html": [
       "<div>\n",
       "<style scoped>\n",
       "    .dataframe tbody tr th:only-of-type {\n",
       "        vertical-align: middle;\n",
       "    }\n",
       "\n",
       "    .dataframe tbody tr th {\n",
       "        vertical-align: top;\n",
       "    }\n",
       "\n",
       "    .dataframe thead th {\n",
       "        text-align: right;\n",
       "    }\n",
       "</style>\n",
       "<table border=\"1\" class=\"dataframe\">\n",
       "  <thead>\n",
       "    <tr style=\"text-align: right;\">\n",
       "      <th></th>\n",
       "      <th>shape_id</th>\n",
       "      <th>shape_pt_lat</th>\n",
       "      <th>shape_pt_lon</th>\n",
       "      <th>shape_pt_sequence</th>\n",
       "      <th>shape_dist_traveled</th>\n",
       "    </tr>\n",
       "  </thead>\n",
       "  <tbody>\n",
       "    <tr>\n",
       "      <th>0</th>\n",
       "      <td>3185</td>\n",
       "      <td>37.949377</td>\n",
       "      <td>23.637303</td>\n",
       "      <td>182</td>\n",
       "      <td>42985.0</td>\n",
       "    </tr>\n",
       "    <tr>\n",
       "      <th>1</th>\n",
       "      <td>3185</td>\n",
       "      <td>37.949221</td>\n",
       "      <td>23.636149</td>\n",
       "      <td>183</td>\n",
       "      <td>43087.0</td>\n",
       "    </tr>\n",
       "    <tr>\n",
       "      <th>2</th>\n",
       "      <td>3185</td>\n",
       "      <td>37.948560</td>\n",
       "      <td>23.635824</td>\n",
       "      <td>184</td>\n",
       "      <td>43166.0</td>\n",
       "    </tr>\n",
       "    <tr>\n",
       "      <th>3</th>\n",
       "      <td>3185</td>\n",
       "      <td>37.946659</td>\n",
       "      <td>23.635988</td>\n",
       "      <td>185</td>\n",
       "      <td>43378.0</td>\n",
       "    </tr>\n",
       "    <tr>\n",
       "      <th>4</th>\n",
       "      <td>3185</td>\n",
       "      <td>37.945976</td>\n",
       "      <td>23.635657</td>\n",
       "      <td>186</td>\n",
       "      <td>43459.0</td>\n",
       "    </tr>\n",
       "  </tbody>\n",
       "</table>\n",
       "</div>"
      ],
      "text/plain": [
       "   shape_id  shape_pt_lat  shape_pt_lon  shape_pt_sequence  \\\n",
       "0      3185     37.949377     23.637303                182   \n",
       "1      3185     37.949221     23.636149                183   \n",
       "2      3185     37.948560     23.635824                184   \n",
       "3      3185     37.946659     23.635988                185   \n",
       "4      3185     37.945976     23.635657                186   \n",
       "\n",
       "   shape_dist_traveled  \n",
       "0              42985.0  \n",
       "1              43087.0  \n",
       "2              43166.0  \n",
       "3              43378.0  \n",
       "4              43459.0  "
      ]
     },
     "execution_count": 4,
     "metadata": {},
     "output_type": "execute_result"
    }
   ],
   "source": [
    "print('ROUTES table')\n",
    "routes.info()\n",
    "routes.head()"
   ]
  },
  {
   "cell_type": "code",
   "execution_count": 5,
   "metadata": {},
   "outputs": [
    {
     "name": "stdout",
     "output_type": "stream",
     "text": [
      "STOPS table\n",
      "<class 'pandas.core.frame.DataFrame'>\n",
      "Int64Index: 7989 entries, 0 to 7988\n",
      "Data columns (total 5 columns):\n",
      " #   Column     Non-Null Count  Dtype  \n",
      "---  ------     --------------  -----  \n",
      " 0   stop_id    7989 non-null   int64  \n",
      " 1   stop_code  7989 non-null   object \n",
      " 2   stop_name  7989 non-null   object \n",
      " 3   stop_lat   7989 non-null   float64\n",
      " 4   stop_lon   7989 non-null   float64\n",
      "dtypes: float64(2), int64(1), object(2)\n",
      "memory usage: 374.5+ KB\n"
     ]
    },
    {
     "data": {
      "text/html": [
       "<div>\n",
       "<style scoped>\n",
       "    .dataframe tbody tr th:only-of-type {\n",
       "        vertical-align: middle;\n",
       "    }\n",
       "\n",
       "    .dataframe tbody tr th {\n",
       "        vertical-align: top;\n",
       "    }\n",
       "\n",
       "    .dataframe thead th {\n",
       "        text-align: right;\n",
       "    }\n",
       "</style>\n",
       "<table border=\"1\" class=\"dataframe\">\n",
       "  <thead>\n",
       "    <tr style=\"text-align: right;\">\n",
       "      <th></th>\n",
       "      <th>stop_id</th>\n",
       "      <th>stop_code</th>\n",
       "      <th>stop_name</th>\n",
       "      <th>stop_lat</th>\n",
       "      <th>stop_lon</th>\n",
       "    </tr>\n",
       "  </thead>\n",
       "  <tbody>\n",
       "    <tr>\n",
       "      <th>0</th>\n",
       "      <td>60605</td>\n",
       "      <td>060605</td>\n",
       "      <td>ΚΑΤΕΧΑΚΗ</td>\n",
       "      <td>37.999062</td>\n",
       "      <td>23.770535</td>\n",
       "    </tr>\n",
       "    <tr>\n",
       "      <th>1</th>\n",
       "      <td>60607</td>\n",
       "      <td>060607</td>\n",
       "      <td>ΓΗΡΟΚΟΜΕΙΟ</td>\n",
       "      <td>37.995774</td>\n",
       "      <td>23.767887</td>\n",
       "    </tr>\n",
       "    <tr>\n",
       "      <th>2</th>\n",
       "      <td>60608</td>\n",
       "      <td>060608</td>\n",
       "      <td>ΕΡΥΘΡΟΣ ΣΤΑΥΡΟΣ</td>\n",
       "      <td>37.992499</td>\n",
       "      <td>23.766326</td>\n",
       "    </tr>\n",
       "    <tr>\n",
       "      <th>3</th>\n",
       "      <td>60610</td>\n",
       "      <td>060610</td>\n",
       "      <td>ΖΕΡΒΑ</td>\n",
       "      <td>37.989746</td>\n",
       "      <td>23.764364</td>\n",
       "    </tr>\n",
       "    <tr>\n",
       "      <th>4</th>\n",
       "      <td>60611</td>\n",
       "      <td>060611</td>\n",
       "      <td>ΑΜΠΕΛΟΚΗΠΟΙ</td>\n",
       "      <td>37.987389</td>\n",
       "      <td>23.761900</td>\n",
       "    </tr>\n",
       "  </tbody>\n",
       "</table>\n",
       "</div>"
      ],
      "text/plain": [
       "   stop_id stop_code        stop_name   stop_lat   stop_lon\n",
       "0    60605    060605         ΚΑΤΕΧΑΚΗ  37.999062  23.770535\n",
       "1    60607    060607       ΓΗΡΟΚΟΜΕΙΟ  37.995774  23.767887\n",
       "2    60608    060608  ΕΡΥΘΡΟΣ ΣΤΑΥΡΟΣ  37.992499  23.766326\n",
       "3    60610    060610            ΖΕΡΒΑ  37.989746  23.764364\n",
       "4    60611    060611      ΑΜΠΕΛΟΚΗΠΟΙ  37.987389  23.761900"
      ]
     },
     "execution_count": 5,
     "metadata": {},
     "output_type": "execute_result"
    }
   ],
   "source": [
    "print('STOPS table')\n",
    "stops.info()\n",
    "stops.head()"
   ]
  },
  {
   "cell_type": "code",
   "execution_count": 6,
   "metadata": {},
   "outputs": [
    {
     "name": "stdout",
     "output_type": "stream",
     "text": [
      "TRAJECTORIES table\n",
      "<class 'pandas.core.frame.DataFrame'>\n",
      "Int64Index: 30818606 entries, 0 to 32012259\n",
      "Data columns (total 5 columns):\n",
      " #   Column     Dtype  \n",
      "---  ------     -----  \n",
      " 0   routeid    int64  \n",
      " 1   vehicleid  int64  \n",
      " 2   datetime   object \n",
      " 3   lat        float64\n",
      " 4   lon        float64\n",
      "dtypes: float64(2), int64(2), object(1)\n",
      "memory usage: 1.4+ GB\n"
     ]
    },
    {
     "data": {
      "text/html": [
       "<div>\n",
       "<style scoped>\n",
       "    .dataframe tbody tr th:only-of-type {\n",
       "        vertical-align: middle;\n",
       "    }\n",
       "\n",
       "    .dataframe tbody tr th {\n",
       "        vertical-align: top;\n",
       "    }\n",
       "\n",
       "    .dataframe thead th {\n",
       "        text-align: right;\n",
       "    }\n",
       "</style>\n",
       "<table border=\"1\" class=\"dataframe\">\n",
       "  <thead>\n",
       "    <tr style=\"text-align: right;\">\n",
       "      <th></th>\n",
       "      <th>routeid</th>\n",
       "      <th>vehicleid</th>\n",
       "      <th>datetime</th>\n",
       "      <th>lat</th>\n",
       "      <th>lon</th>\n",
       "    </tr>\n",
       "  </thead>\n",
       "  <tbody>\n",
       "    <tr>\n",
       "      <th>0</th>\n",
       "      <td>3376</td>\n",
       "      <td>65118</td>\n",
       "      <td>Mar 16 2020 08:55:07:000AM</td>\n",
       "      <td>37.839379</td>\n",
       "      <td>23.871029</td>\n",
       "    </tr>\n",
       "    <tr>\n",
       "      <th>1</th>\n",
       "      <td>3376</td>\n",
       "      <td>65152</td>\n",
       "      <td>Mar 16 2020 08:55:00:000AM</td>\n",
       "      <td>37.914188</td>\n",
       "      <td>23.900087</td>\n",
       "    </tr>\n",
       "    <tr>\n",
       "      <th>2</th>\n",
       "      <td>2024</td>\n",
       "      <td>7029</td>\n",
       "      <td>Mar 16 2020 08:54:53:000AM</td>\n",
       "      <td>38.005803</td>\n",
       "      <td>23.749358</td>\n",
       "    </tr>\n",
       "    <tr>\n",
       "      <th>3</th>\n",
       "      <td>2024</td>\n",
       "      <td>7056</td>\n",
       "      <td>Mar 16 2020 08:55:09:000AM</td>\n",
       "      <td>37.977853</td>\n",
       "      <td>23.732996</td>\n",
       "    </tr>\n",
       "    <tr>\n",
       "      <th>4</th>\n",
       "      <td>2024</td>\n",
       "      <td>7024</td>\n",
       "      <td>Mar 16 2020 08:45:21:000AM</td>\n",
       "      <td>38.002349</td>\n",
       "      <td>23.741560</td>\n",
       "    </tr>\n",
       "  </tbody>\n",
       "</table>\n",
       "</div>"
      ],
      "text/plain": [
       "   routeid  vehicleid                    datetime        lat        lon\n",
       "0     3376      65118  Mar 16 2020 08:55:07:000AM  37.839379  23.871029\n",
       "1     3376      65152  Mar 16 2020 08:55:00:000AM  37.914188  23.900087\n",
       "2     2024       7029  Mar 16 2020 08:54:53:000AM  38.005803  23.749358\n",
       "3     2024       7056  Mar 16 2020 08:55:09:000AM  37.977853  23.732996\n",
       "4     2024       7024  Mar 16 2020 08:45:21:000AM  38.002349  23.741560"
      ]
     },
     "execution_count": 6,
     "metadata": {},
     "output_type": "execute_result"
    }
   ],
   "source": [
    "print('TRAJECTORIES table')\n",
    "trajectories.info()\n",
    "trajectories.head()"
   ]
  },
  {
   "cell_type": "markdown",
   "metadata": {},
   "source": [
    "# <center>Data Preparation</center>"
   ]
  },
  {
   "cell_type": "markdown",
   "metadata": {},
   "source": [
    "### > ROUTES table"
   ]
  },
  {
   "cell_type": "markdown",
   "metadata": {},
   "source": [
    "- Sort table"
   ]
  },
  {
   "cell_type": "code",
   "execution_count": 7,
   "metadata": {},
   "outputs": [],
   "source": [
    "routes = routes.sort_values(by=['shape_id', 'shape_pt_sequence']).reset_index(drop=True)"
   ]
  },
  {
   "cell_type": "markdown",
   "metadata": {},
   "source": [
    "### > STOPS table"
   ]
  },
  {
   "cell_type": "markdown",
   "metadata": {},
   "source": [
    "- Sort table"
   ]
  },
  {
   "cell_type": "code",
   "execution_count": 8,
   "metadata": {},
   "outputs": [],
   "source": [
    "stops = stops.sort_values(by=['stop_id']).reset_index(drop=True)"
   ]
  },
  {
   "cell_type": "markdown",
   "metadata": {},
   "source": [
    "### > TRAJECTORIES table"
   ]
  },
  {
   "cell_type": "markdown",
   "metadata": {},
   "source": [
    "- DATETIME column format"
   ]
  },
  {
   "cell_type": "code",
   "execution_count": 9,
   "metadata": {
    "collapsed": false,
    "jupyter": {
     "outputs_hidden": false
    },
    "pycharm": {
     "name": "#%%\n"
    }
   },
   "outputs": [
    {
     "name": "stdout",
     "output_type": "stream",
     "text": [
      "Microseconds are not important - True\n"
     ]
    }
   ],
   "source": [
    "# Microseconds to datetime column do not need\n",
    "b = True\n",
    "for i in trajectories.datetime:\n",
    "    if i[-5 : -2] != '000':\n",
    "        b = False\n",
    "        break\n",
    "print('Microseconds are not important -', b)"
   ]
  },
  {
   "cell_type": "code",
   "execution_count": 10,
   "metadata": {
    "collapsed": false,
    "jupyter": {
     "outputs_hidden": false
    },
    "pycharm": {
     "name": "#%%\n"
    }
   },
   "outputs": [],
   "source": [
    "new_datetime = []\n",
    "\n",
    "# Remove microseconds\n",
    "for i in trajectories.datetime:\n",
    "    new_datetime.append(i[:-6] + i[-2:])\n",
    "\n",
    "# Convert datetime column, from str to datetime\n",
    "trajectories.datetime = pd.to_datetime(pd.Series(new_datetime), format='%b %d %Y %I:%M:%S%p')"
   ]
  },
  {
   "cell_type": "markdown",
   "metadata": {},
   "source": [
    "- Select 1 month of trajectories"
   ]
  },
  {
   "cell_type": "code",
   "execution_count": 11,
   "metadata": {},
   "outputs": [],
   "source": [
    "# Data Select 2 weeks\n",
    "trajectories = trajectories[(trajectories.datetime>'2020-04-01') & (trajectories.datetime<'2020-04-15')]\n",
    "trajectories = trajectories.reset_index(drop=True)"
   ]
  },
  {
   "cell_type": "markdown",
   "metadata": {},
   "source": [
    "- Sort table"
   ]
  },
  {
   "cell_type": "code",
   "execution_count": 12,
   "metadata": {},
   "outputs": [],
   "source": [
    "# Sort values by datetime column\n",
    "trajectories = trajectories.sort_values(by=['routeid', 'vehicleid', 'datetime']).reset_index(drop=True)"
   ]
  },
  {
   "cell_type": "markdown",
   "metadata": {},
   "source": [
    "### Search for NULL values in all tables"
   ]
  },
  {
   "cell_type": "code",
   "execution_count": 13,
   "metadata": {
    "collapsed": false,
    "jupyter": {
     "outputs_hidden": false
    },
    "pycharm": {
     "name": "#%%\n"
    }
   },
   "outputs": [
    {
     "data": {
      "text/plain": [
       "['routes-->shape_id',\n",
       " 'routes-->shape_pt_lat',\n",
       " 'routes-->shape_pt_lon',\n",
       " 'routes-->shape_pt_sequence',\n",
       " 'routes-->shape_dist_traveled',\n",
       " Int64Index([   0,    1,    2,    3,    4,    5,    6,    7,    8,    9,\n",
       "             ...\n",
       "             1554, 1555, 1556, 1557, 1558, 1559, 1560, 1561, 1562, 1563],\n",
       "            dtype='int64', length=1564),\n",
       " 'stops-->stop_id',\n",
       " 'stops-->stop_code',\n",
       " 'stops-->stop_name',\n",
       " 'stops-->stop_lat',\n",
       " 'stops-->stop_lon',\n",
       " 'trajectories-->routeid',\n",
       " 'trajectories-->vehicleid',\n",
       " 'trajectories-->datetime',\n",
       " 'trajectories-->lat',\n",
       " 'trajectories-->lon']"
      ]
     },
     "execution_count": 13,
     "metadata": {},
     "output_type": "execute_result"
    }
   ],
   "source": [
    "null_values_index = []\n",
    "# Search for null values\n",
    "for table in [routes, stops, trajectories]:\n",
    "    table_name =[x for x in globals() if globals()[x] is table][0]\n",
    "\n",
    "    for col in table.columns:\n",
    "        # Get indecies of \"data DataFrame\" rows, if table['col'] has null values\n",
    "        null_values_index.append(table_name + '-->' + col)\n",
    "        temp = table[col].index[pd.isnull(table[col])]\n",
    "        if len(temp) > 0: # If null_rows_index isn't empty\n",
    "            null_values_index.append(temp)\n",
    "        \n",
    "null_values_index "
   ]
  },
  {
   "cell_type": "markdown",
   "metadata": {},
   "source": [
    "#### So, table ROUTES has null values in SHAPE_DIST_TRAVELED column, to NULL_VALUES_INDEX[5] indecies"
   ]
  },
  {
   "cell_type": "code",
   "execution_count": 14,
   "metadata": {},
   "outputs": [
    {
     "name": "stdout",
     "output_type": "stream",
     "text": [
      "Int64Index([   0,    1,    2,    3,    4,    5,    6,    7,    8,    9,\n",
      "            ...\n",
      "            1554, 1555, 1556, 1557, 1558, 1559, 1560, 1561, 1562, 1563],\n",
      "           dtype='int64', length=1564)\n"
     ]
    }
   ],
   "source": [
    "print(null_values_index[5])"
   ]
  },
  {
   "cell_type": "markdown",
   "metadata": {},
   "source": [
    "#### About SHAPE_DIST_TRAVELED column\n",
    "SHAPE_DIST_TRAVELED is the distance between points of SHAPE_PT_SEQUENCE per SHAPE_ID.\n",
    "So, we can replace null values of SHAPE_DIST_TRAVELED' column as follows:\n",
    ">t = null_value_index\n",
    "<br>\n",
    ">if SHAPE_PT_SEQUENCE[t] > 1:\n",
    "<br>&emsp;&emsp;\n",
    ">SHAPE_DIST_TRAVELED[t]  =  SHAPE_DIST_TRAVELED[t-1]  +  distance( (lat(t), lon(t)) , (lat(t-1), lon(t-1)) ).meters\n",
    "<br>\n",
    ">else:\n",
    "<br>&emsp;&emsp;\n",
    ">dist[t] = 0"
   ]
  },
  {
   "cell_type": "code",
   "execution_count": 15,
   "metadata": {},
   "outputs": [],
   "source": [
    "# Replace null values\n",
    "for index in null_values_index[5]:\n",
    "    if routes.at[index, 'shape_pt_sequence'] > 1:\n",
    "        routes.at[index, 'shape_dist_traveled'] = \\\n",
    "        routes.at[index-1, 'shape_dist_traveled'] + \\\n",
    "        int( distance.distance((routes.at[index, 'shape_pt_lat'], routes.at[index, 'shape_pt_lon']), \\\n",
    "        (routes.at[index-1, 'shape_pt_lat'], routes.at[index-1, 'shape_pt_lon'])).m)\n",
    "    else: # The start point\n",
    "        routes.at[index, 'shape_dist_traveled'] = 0\n",
    "\n",
    "# No null values left"
   ]
  },
  {
   "cell_type": "code",
   "execution_count": 16,
   "metadata": {},
   "outputs": [],
   "source": [
    "# From DataFrame to GeoDataFrame\n",
    "routes = helper.getGeoDataFrame_v2(routes, coordinate_columns=['shape_pt_lon', 'shape_pt_lat'], crs='epsg:4326')\n",
    "stops = helper.getGeoDataFrame_v2(stops, coordinate_columns=['stop_lon', 'stop_lat'], crs='epsg:4326')\n",
    "trajectories = helper.getGeoDataFrame_v2(trajectories, crs='epsg:4326')"
   ]
  },
  {
   "cell_type": "code",
   "execution_count": 17,
   "metadata": {},
   "outputs": [
    {
     "data": {
      "text/html": [
       "\n",
       "    <div class=\"bk-root\">\n",
       "        <a href=\"https://bokeh.org\" target=\"_blank\" class=\"bk-logo bk-logo-small bk-logo-notebook\"></a>\n",
       "        <span id=\"1086\">Loading BokehJS ...</span>\n",
       "    </div>"
      ]
     },
     "metadata": {},
     "output_type": "display_data"
    },
    {
     "data": {
      "application/javascript": [
       "\n",
       "(function(root) {\n",
       "  function now() {\n",
       "    return new Date();\n",
       "  }\n",
       "\n",
       "  var force = true;\n",
       "\n",
       "  if (typeof root._bokeh_onload_callbacks === \"undefined\" || force === true) {\n",
       "    root._bokeh_onload_callbacks = [];\n",
       "    root._bokeh_is_loading = undefined;\n",
       "  }\n",
       "\n",
       "  var JS_MIME_TYPE = 'application/javascript';\n",
       "  var HTML_MIME_TYPE = 'text/html';\n",
       "  var EXEC_MIME_TYPE = 'application/vnd.bokehjs_exec.v0+json';\n",
       "  var CLASS_NAME = 'output_bokeh rendered_html';\n",
       "\n",
       "  /**\n",
       "   * Render data to the DOM node\n",
       "   */\n",
       "  function render(props, node) {\n",
       "    var script = document.createElement(\"script\");\n",
       "    node.appendChild(script);\n",
       "  }\n",
       "\n",
       "  /**\n",
       "   * Handle when an output is cleared or removed\n",
       "   */\n",
       "  function handleClearOutput(event, handle) {\n",
       "    var cell = handle.cell;\n",
       "\n",
       "    var id = cell.output_area._bokeh_element_id;\n",
       "    var server_id = cell.output_area._bokeh_server_id;\n",
       "    // Clean up Bokeh references\n",
       "    if (id != null && id in Bokeh.index) {\n",
       "      Bokeh.index[id].model.document.clear();\n",
       "      delete Bokeh.index[id];\n",
       "    }\n",
       "\n",
       "    if (server_id !== undefined) {\n",
       "      // Clean up Bokeh references\n",
       "      var cmd = \"from bokeh.io.state import curstate; print(curstate().uuid_to_server['\" + server_id + \"'].get_sessions()[0].document.roots[0]._id)\";\n",
       "      cell.notebook.kernel.execute(cmd, {\n",
       "        iopub: {\n",
       "          output: function(msg) {\n",
       "            var id = msg.content.text.trim();\n",
       "            if (id in Bokeh.index) {\n",
       "              Bokeh.index[id].model.document.clear();\n",
       "              delete Bokeh.index[id];\n",
       "            }\n",
       "          }\n",
       "        }\n",
       "      });\n",
       "      // Destroy server and session\n",
       "      var cmd = \"import bokeh.io.notebook as ion; ion.destroy_server('\" + server_id + \"')\";\n",
       "      cell.notebook.kernel.execute(cmd);\n",
       "    }\n",
       "  }\n",
       "\n",
       "  /**\n",
       "   * Handle when a new output is added\n",
       "   */\n",
       "  function handleAddOutput(event, handle) {\n",
       "    var output_area = handle.output_area;\n",
       "    var output = handle.output;\n",
       "\n",
       "    // limit handleAddOutput to display_data with EXEC_MIME_TYPE content only\n",
       "    if ((output.output_type != \"display_data\") || (!output.data.hasOwnProperty(EXEC_MIME_TYPE))) {\n",
       "      return\n",
       "    }\n",
       "\n",
       "    var toinsert = output_area.element.find(\".\" + CLASS_NAME.split(' ')[0]);\n",
       "\n",
       "    if (output.metadata[EXEC_MIME_TYPE][\"id\"] !== undefined) {\n",
       "      toinsert[toinsert.length - 1].firstChild.textContent = output.data[JS_MIME_TYPE];\n",
       "      // store reference to embed id on output_area\n",
       "      output_area._bokeh_element_id = output.metadata[EXEC_MIME_TYPE][\"id\"];\n",
       "    }\n",
       "    if (output.metadata[EXEC_MIME_TYPE][\"server_id\"] !== undefined) {\n",
       "      var bk_div = document.createElement(\"div\");\n",
       "      bk_div.innerHTML = output.data[HTML_MIME_TYPE];\n",
       "      var script_attrs = bk_div.children[0].attributes;\n",
       "      for (var i = 0; i < script_attrs.length; i++) {\n",
       "        toinsert[toinsert.length - 1].firstChild.setAttribute(script_attrs[i].name, script_attrs[i].value);\n",
       "        toinsert[toinsert.length - 1].firstChild.textContent = bk_div.children[0].textContent\n",
       "      }\n",
       "      // store reference to server id on output_area\n",
       "      output_area._bokeh_server_id = output.metadata[EXEC_MIME_TYPE][\"server_id\"];\n",
       "    }\n",
       "  }\n",
       "\n",
       "  function register_renderer(events, OutputArea) {\n",
       "\n",
       "    function append_mime(data, metadata, element) {\n",
       "      // create a DOM node to render to\n",
       "      var toinsert = this.create_output_subarea(\n",
       "        metadata,\n",
       "        CLASS_NAME,\n",
       "        EXEC_MIME_TYPE\n",
       "      );\n",
       "      this.keyboard_manager.register_events(toinsert);\n",
       "      // Render to node\n",
       "      var props = {data: data, metadata: metadata[EXEC_MIME_TYPE]};\n",
       "      render(props, toinsert[toinsert.length - 1]);\n",
       "      element.append(toinsert);\n",
       "      return toinsert\n",
       "    }\n",
       "\n",
       "    /* Handle when an output is cleared or removed */\n",
       "    events.on('clear_output.CodeCell', handleClearOutput);\n",
       "    events.on('delete.Cell', handleClearOutput);\n",
       "\n",
       "    /* Handle when a new output is added */\n",
       "    events.on('output_added.OutputArea', handleAddOutput);\n",
       "\n",
       "    /**\n",
       "     * Register the mime type and append_mime function with output_area\n",
       "     */\n",
       "    OutputArea.prototype.register_mime_type(EXEC_MIME_TYPE, append_mime, {\n",
       "      /* Is output safe? */\n",
       "      safe: true,\n",
       "      /* Index of renderer in `output_area.display_order` */\n",
       "      index: 0\n",
       "    });\n",
       "  }\n",
       "\n",
       "  // register the mime type if in Jupyter Notebook environment and previously unregistered\n",
       "  if (root.Jupyter !== undefined) {\n",
       "    var events = require('base/js/events');\n",
       "    var OutputArea = require('notebook/js/outputarea').OutputArea;\n",
       "\n",
       "    if (OutputArea.prototype.mime_types().indexOf(EXEC_MIME_TYPE) == -1) {\n",
       "      register_renderer(events, OutputArea);\n",
       "    }\n",
       "  }\n",
       "\n",
       "  \n",
       "  if (typeof (root._bokeh_timeout) === \"undefined\" || force === true) {\n",
       "    root._bokeh_timeout = Date.now() + 5000;\n",
       "    root._bokeh_failed_load = false;\n",
       "  }\n",
       "\n",
       "  var NB_LOAD_WARNING = {'data': {'text/html':\n",
       "     \"<div style='background-color: #fdd'>\\n\"+\n",
       "     \"<p>\\n\"+\n",
       "     \"BokehJS does not appear to have successfully loaded. If loading BokehJS from CDN, this \\n\"+\n",
       "     \"may be due to a slow or bad network connection. Possible fixes:\\n\"+\n",
       "     \"</p>\\n\"+\n",
       "     \"<ul>\\n\"+\n",
       "     \"<li>re-rerun `output_notebook()` to attempt to load from CDN again, or</li>\\n\"+\n",
       "     \"<li>use INLINE resources instead, as so:</li>\\n\"+\n",
       "     \"</ul>\\n\"+\n",
       "     \"<code>\\n\"+\n",
       "     \"from bokeh.resources import INLINE\\n\"+\n",
       "     \"output_notebook(resources=INLINE)\\n\"+\n",
       "     \"</code>\\n\"+\n",
       "     \"</div>\"}};\n",
       "\n",
       "  function display_loaded() {\n",
       "    var el = document.getElementById(\"1086\");\n",
       "    if (el != null) {\n",
       "      el.textContent = \"BokehJS is loading...\";\n",
       "    }\n",
       "    if (root.Bokeh !== undefined) {\n",
       "      if (el != null) {\n",
       "        el.textContent = \"BokehJS \" + root.Bokeh.version + \" successfully loaded.\";\n",
       "      }\n",
       "    } else if (Date.now() < root._bokeh_timeout) {\n",
       "      setTimeout(display_loaded, 100)\n",
       "    }\n",
       "  }\n",
       "\n",
       "\n",
       "  function run_callbacks() {\n",
       "    try {\n",
       "      root._bokeh_onload_callbacks.forEach(function(callback) {\n",
       "        if (callback != null)\n",
       "          callback();\n",
       "      });\n",
       "    } finally {\n",
       "      delete root._bokeh_onload_callbacks\n",
       "    }\n",
       "    console.debug(\"Bokeh: all callbacks have finished\");\n",
       "  }\n",
       "\n",
       "  function load_libs(css_urls, js_urls, callback) {\n",
       "    if (css_urls == null) css_urls = [];\n",
       "    if (js_urls == null) js_urls = [];\n",
       "\n",
       "    root._bokeh_onload_callbacks.push(callback);\n",
       "    if (root._bokeh_is_loading > 0) {\n",
       "      console.debug(\"Bokeh: BokehJS is being loaded, scheduling callback at\", now());\n",
       "      return null;\n",
       "    }\n",
       "    if (js_urls == null || js_urls.length === 0) {\n",
       "      run_callbacks();\n",
       "      return null;\n",
       "    }\n",
       "    console.debug(\"Bokeh: BokehJS not loaded, scheduling load and callback at\", now());\n",
       "    root._bokeh_is_loading = css_urls.length + js_urls.length;\n",
       "\n",
       "    function on_load() {\n",
       "      root._bokeh_is_loading--;\n",
       "      if (root._bokeh_is_loading === 0) {\n",
       "        console.debug(\"Bokeh: all BokehJS libraries/stylesheets loaded\");\n",
       "        run_callbacks()\n",
       "      }\n",
       "    }\n",
       "\n",
       "    function on_error() {\n",
       "      console.error(\"failed to load \" + url);\n",
       "    }\n",
       "\n",
       "    for (var i = 0; i < css_urls.length; i++) {\n",
       "      var url = css_urls[i];\n",
       "      const element = document.createElement(\"link\");\n",
       "      element.onload = on_load;\n",
       "      element.onerror = on_error;\n",
       "      element.rel = \"stylesheet\";\n",
       "      element.type = \"text/css\";\n",
       "      element.href = url;\n",
       "      console.debug(\"Bokeh: injecting link tag for BokehJS stylesheet: \", url);\n",
       "      document.body.appendChild(element);\n",
       "    }\n",
       "\n",
       "    for (var i = 0; i < js_urls.length; i++) {\n",
       "      var url = js_urls[i];\n",
       "      var element = document.createElement('script');\n",
       "      element.onload = on_load;\n",
       "      element.onerror = on_error;\n",
       "      element.async = false;\n",
       "      element.src = url;\n",
       "      \n",
       "      console.debug(\"Bokeh: injecting script tag for BokehJS library: \", url);\n",
       "      document.head.appendChild(element);\n",
       "    }\n",
       "  };var element = document.getElementById(\"1086\");\n",
       "  if (element == null) {\n",
       "    console.error(\"Bokeh: ERROR: autoload.js configured with elementid '1086' but no matching script tag was found. \")\n",
       "    return false;\n",
       "  }\n",
       "\n",
       "  function inject_raw_css(css) {\n",
       "    const element = document.createElement(\"style\");\n",
       "    element.appendChild(document.createTextNode(css));\n",
       "    document.body.appendChild(element);\n",
       "  }\n",
       "\n",
       "  \n",
       "  var js_urls = [\"https://cdn.bokeh.org/bokeh/release/bokeh-2.0.0.min.js\", \"https://cdn.bokeh.org/bokeh/release/bokeh-widgets-2.0.0.min.js\", \"https://cdn.bokeh.org/bokeh/release/bokeh-tables-2.0.0.min.js\", \"https://cdn.bokeh.org/bokeh/release/bokeh-gl-2.0.0.min.js\"];\n",
       "  var css_urls = [];\n",
       "  \n",
       "\n",
       "  var inline_js = [\n",
       "    function(Bokeh) {\n",
       "      Bokeh.set_log_level(\"info\");\n",
       "    },\n",
       "    function(Bokeh) {\n",
       "    \n",
       "    \n",
       "    }\n",
       "  ];\n",
       "\n",
       "  function run_inline_js() {\n",
       "    \n",
       "    if (root.Bokeh !== undefined || force === true) {\n",
       "      \n",
       "    for (var i = 0; i < inline_js.length; i++) {\n",
       "      inline_js[i].call(root, root.Bokeh);\n",
       "    }\n",
       "    if (force === true) {\n",
       "        display_loaded();\n",
       "      }} else if (Date.now() < root._bokeh_timeout) {\n",
       "      setTimeout(run_inline_js, 100);\n",
       "    } else if (!root._bokeh_failed_load) {\n",
       "      console.log(\"Bokeh: BokehJS failed to load within specified timeout.\");\n",
       "      root._bokeh_failed_load = true;\n",
       "    } else if (force !== true) {\n",
       "      var cell = $(document.getElementById(\"1086\")).parents('.cell').data().cell;\n",
       "      cell.output_area.append_execute_result(NB_LOAD_WARNING)\n",
       "    }\n",
       "\n",
       "  }\n",
       "\n",
       "  if (root._bokeh_is_loading === 0) {\n",
       "    console.debug(\"Bokeh: BokehJS loaded, going straight to plotting\");\n",
       "    run_inline_js();\n",
       "  } else {\n",
       "    load_libs(css_urls, js_urls, function() {\n",
       "      console.debug(\"Bokeh: BokehJS plotting callback run at\", now());\n",
       "      run_inline_js();\n",
       "    });\n",
       "  }\n",
       "}(window));"
      ],
      "application/vnd.bokehjs_load.v0+json": "\n(function(root) {\n  function now() {\n    return new Date();\n  }\n\n  var force = true;\n\n  if (typeof root._bokeh_onload_callbacks === \"undefined\" || force === true) {\n    root._bokeh_onload_callbacks = [];\n    root._bokeh_is_loading = undefined;\n  }\n\n  \n\n  \n  if (typeof (root._bokeh_timeout) === \"undefined\" || force === true) {\n    root._bokeh_timeout = Date.now() + 5000;\n    root._bokeh_failed_load = false;\n  }\n\n  var NB_LOAD_WARNING = {'data': {'text/html':\n     \"<div style='background-color: #fdd'>\\n\"+\n     \"<p>\\n\"+\n     \"BokehJS does not appear to have successfully loaded. If loading BokehJS from CDN, this \\n\"+\n     \"may be due to a slow or bad network connection. Possible fixes:\\n\"+\n     \"</p>\\n\"+\n     \"<ul>\\n\"+\n     \"<li>re-rerun `output_notebook()` to attempt to load from CDN again, or</li>\\n\"+\n     \"<li>use INLINE resources instead, as so:</li>\\n\"+\n     \"</ul>\\n\"+\n     \"<code>\\n\"+\n     \"from bokeh.resources import INLINE\\n\"+\n     \"output_notebook(resources=INLINE)\\n\"+\n     \"</code>\\n\"+\n     \"</div>\"}};\n\n  function display_loaded() {\n    var el = document.getElementById(\"1086\");\n    if (el != null) {\n      el.textContent = \"BokehJS is loading...\";\n    }\n    if (root.Bokeh !== undefined) {\n      if (el != null) {\n        el.textContent = \"BokehJS \" + root.Bokeh.version + \" successfully loaded.\";\n      }\n    } else if (Date.now() < root._bokeh_timeout) {\n      setTimeout(display_loaded, 100)\n    }\n  }\n\n\n  function run_callbacks() {\n    try {\n      root._bokeh_onload_callbacks.forEach(function(callback) {\n        if (callback != null)\n          callback();\n      });\n    } finally {\n      delete root._bokeh_onload_callbacks\n    }\n    console.debug(\"Bokeh: all callbacks have finished\");\n  }\n\n  function load_libs(css_urls, js_urls, callback) {\n    if (css_urls == null) css_urls = [];\n    if (js_urls == null) js_urls = [];\n\n    root._bokeh_onload_callbacks.push(callback);\n    if (root._bokeh_is_loading > 0) {\n      console.debug(\"Bokeh: BokehJS is being loaded, scheduling callback at\", now());\n      return null;\n    }\n    if (js_urls == null || js_urls.length === 0) {\n      run_callbacks();\n      return null;\n    }\n    console.debug(\"Bokeh: BokehJS not loaded, scheduling load and callback at\", now());\n    root._bokeh_is_loading = css_urls.length + js_urls.length;\n\n    function on_load() {\n      root._bokeh_is_loading--;\n      if (root._bokeh_is_loading === 0) {\n        console.debug(\"Bokeh: all BokehJS libraries/stylesheets loaded\");\n        run_callbacks()\n      }\n    }\n\n    function on_error() {\n      console.error(\"failed to load \" + url);\n    }\n\n    for (var i = 0; i < css_urls.length; i++) {\n      var url = css_urls[i];\n      const element = document.createElement(\"link\");\n      element.onload = on_load;\n      element.onerror = on_error;\n      element.rel = \"stylesheet\";\n      element.type = \"text/css\";\n      element.href = url;\n      console.debug(\"Bokeh: injecting link tag for BokehJS stylesheet: \", url);\n      document.body.appendChild(element);\n    }\n\n    for (var i = 0; i < js_urls.length; i++) {\n      var url = js_urls[i];\n      var element = document.createElement('script');\n      element.onload = on_load;\n      element.onerror = on_error;\n      element.async = false;\n      element.src = url;\n      \n      console.debug(\"Bokeh: injecting script tag for BokehJS library: \", url);\n      document.head.appendChild(element);\n    }\n  };var element = document.getElementById(\"1086\");\n  if (element == null) {\n    console.error(\"Bokeh: ERROR: autoload.js configured with elementid '1086' but no matching script tag was found. \")\n    return false;\n  }\n\n  function inject_raw_css(css) {\n    const element = document.createElement(\"style\");\n    element.appendChild(document.createTextNode(css));\n    document.body.appendChild(element);\n  }\n\n  \n  var js_urls = [\"https://cdn.bokeh.org/bokeh/release/bokeh-2.0.0.min.js\", \"https://cdn.bokeh.org/bokeh/release/bokeh-widgets-2.0.0.min.js\", \"https://cdn.bokeh.org/bokeh/release/bokeh-tables-2.0.0.min.js\", \"https://cdn.bokeh.org/bokeh/release/bokeh-gl-2.0.0.min.js\"];\n  var css_urls = [];\n  \n\n  var inline_js = [\n    function(Bokeh) {\n      Bokeh.set_log_level(\"info\");\n    },\n    function(Bokeh) {\n    \n    \n    }\n  ];\n\n  function run_inline_js() {\n    \n    if (root.Bokeh !== undefined || force === true) {\n      \n    for (var i = 0; i < inline_js.length; i++) {\n      inline_js[i].call(root, root.Bokeh);\n    }\n    if (force === true) {\n        display_loaded();\n      }} else if (Date.now() < root._bokeh_timeout) {\n      setTimeout(run_inline_js, 100);\n    } else if (!root._bokeh_failed_load) {\n      console.log(\"Bokeh: BokehJS failed to load within specified timeout.\");\n      root._bokeh_failed_load = true;\n    } else if (force !== true) {\n      var cell = $(document.getElementById(\"1086\")).parents('.cell').data().cell;\n      cell.output_area.append_execute_result(NB_LOAD_WARNING)\n    }\n\n  }\n\n  if (root._bokeh_is_loading === 0) {\n    console.debug(\"Bokeh: BokehJS loaded, going straight to plotting\");\n    run_inline_js();\n  } else {\n    load_libs(css_urls, js_urls, function() {\n      console.debug(\"Bokeh: BokehJS plotting callback run at\", now());\n      run_inline_js();\n    });\n  }\n}(window));"
     },
     "metadata": {},
     "output_type": "display_data"
    },
    {
     "data": {
      "application/vnd.bokehjs_exec.v0+json": "",
      "text/html": [
       "\n",
       "<script id=\"1087\">\n",
       "  var xhr = new XMLHttpRequest()\n",
       "  xhr.responseType = 'blob';\n",
       "  xhr.open('GET', \"http://localhost:51265/autoload.js?bokeh-autoload-element=1087&bokeh-absolute-url=http://localhost:51265&resources=none\", true);\n",
       "  \n",
       "  xhr.onload = function (event) {\n",
       "    var script = document.createElement('script'),\n",
       "    src = URL.createObjectURL(event.target.response);\n",
       "    script.src = src;\n",
       "    document.body.appendChild(script);\n",
       "  };\n",
       "xhr.send();\n",
       "</script>"
      ]
     },
     "metadata": {
      "application/vnd.bokehjs_exec.v0+json": {
       "server_id": "d3b512f811f34c5984ce51181514abeb"
      }
     },
     "output_type": "display_data"
    }
   ],
   "source": [
    "# Visualization of Trajectories\n",
    "st_viz = st_visualizer.st_visualizer()\n",
    "st_viz.set_data(trajectories.head(500_000))\n",
    "viz_express.plot_points_on_map(st_viz, tools=['lasso_select'])\n",
    "st_viz.add_temporal_filter(temporal_name='datetime', temporal_unit='ms', callback_policy='value_throttled', step_ms=5*60*10**3, title='Temporal Horizon')\n",
    "st_viz.show_figures(notebook_url='http://localhost:8888')"
   ]
  },
  {
   "cell_type": "markdown",
   "metadata": {},
   "source": [
    "# <center>Data Cleansing</center>"
   ]
  },
  {
   "cell_type": "code",
   "execution_count": 18,
   "metadata": {},
   "outputs": [
    {
     "name": "stdout",
     "output_type": "stream",
     "text": [
      "Step 1. Calculating Speed\n",
      "Step 2. Calculating Bearing\n",
      "Step 3. Concatenating Results\n",
      "Step 4. Calculating Acceleration\n"
     ]
    }
   ],
   "source": [
    "# Remove duplicate points\n",
    "trajectories.drop_duplicates(subset=['datetime','vehicleid'], inplace=True)\n",
    "\n",
    "print ('Step 1. Calculating Speed')\n",
    "# Calculate speed\n",
    "calc_velocity = trajectories.copy().groupby('vehicleid', group_keys=False).apply(lambda gdf: helper.calculate_velocity(gdf, ts_column='datetime'))['velocity']\n",
    "\n",
    "print ('Step 2. Calculating Bearing')\n",
    "# Calculate bearing\n",
    "calc_heading = trajectories.copy().groupby('vehicleid', group_keys=False).apply(lambda gdf: helper.calculate_bearing(gdf))['bearing']\n",
    "\n",
    "print ('Step 3. Concatenating Results')\n",
    "trajectories.loc[:, 'velocity'] = calc_velocity\n",
    "trajectories.loc[:, 'bearing'] = calc_heading\n",
    "\n",
    "print ('Step 4. Calculating Acceleration')\n",
    "# Calculate acceleration\n",
    "trajectories.loc[:, 'acceleration'] = trajectories.groupby('vehicleid', group_keys=False).apply(lambda gdf: helper.calculate_acceleration(gdf, ts_column='datetime'))\n",
    "\n",
    "# Drop NaN values (in case they exist)\n",
    "trajectories.dropna(subset=['velocity', 'bearing', 'acceleration'], inplace=True)"
   ]
  },
  {
   "cell_type": "markdown",
   "metadata": {},
   "source": [
    "### Spatial Outliers"
   ]
  },
  {
   "cell_type": "code",
   "execution_count": 19,
   "metadata": {},
   "outputs": [],
   "source": [
    "vehicle_traj_gdf = trajectories[trajectories.vehicleid.isin(trajectories.vehicleid.unique()[:2])].copy()\n",
    "\n",
    "tmp = []\n",
    "for i in range(1, len(vehicle_traj_gdf)):\n",
    "    tmp.append(haversine((vehicle_traj_gdf.geom.x.iloc[i], vehicle_traj_gdf.geom.y.iloc[i]) , (vehicle_traj_gdf.geom.x.iloc[i-1], vehicle_traj_gdf.geom.y.iloc[i-1])))\n",
    "vehicle_traj_gdf.loc[:, 'distance_from_prev'] = pd.Series(tmp)\n",
    "vehicle_traj_gdf.loc[:, 'temporal_difference_from_prev'] = vehicle_traj_gdf.datetime.diff().abs()"
   ]
  },
  {
   "cell_type": "code",
   "execution_count": 35,
   "metadata": {},
   "outputs": [
    {
     "data": {
      "text/html": [
       "<style  type=\"text/css\" >\n",
       "    #T_d9d50ea4_a30c_11ec_a04a_b24babf17660row0_col0 {\n",
       "            background-color:  white;\n",
       "        }    #T_d9d50ea4_a30c_11ec_a04a_b24babf17660row0_col1 {\n",
       "            background-color:  white;\n",
       "        }    #T_d9d50ea4_a30c_11ec_a04a_b24babf17660row0_col2 {\n",
       "            background-color:  white;\n",
       "        }    #T_d9d50ea4_a30c_11ec_a04a_b24babf17660row0_col3 {\n",
       "            background-color:  white;\n",
       "        }    #T_d9d50ea4_a30c_11ec_a04a_b24babf17660row0_col4 {\n",
       "            background-color:  white;\n",
       "        }    #T_d9d50ea4_a30c_11ec_a04a_b24babf17660row0_col5 {\n",
       "            background-color:  white;\n",
       "        }    #T_d9d50ea4_a30c_11ec_a04a_b24babf17660row0_col6 {\n",
       "            background-color:  white;\n",
       "        }    #T_d9d50ea4_a30c_11ec_a04a_b24babf17660row0_col7 {\n",
       "            background-color:  white;\n",
       "        }    #T_d9d50ea4_a30c_11ec_a04a_b24babf17660row0_col8 {\n",
       "            background-color:  white;\n",
       "        }    #T_d9d50ea4_a30c_11ec_a04a_b24babf17660row0_col9 {\n",
       "            background-color:  white;\n",
       "        }    #T_d9d50ea4_a30c_11ec_a04a_b24babf17660row0_col10 {\n",
       "            background-color:  white;\n",
       "        }    #T_d9d50ea4_a30c_11ec_a04a_b24babf17660row1_col0 {\n",
       "            background-color:  lightblue;\n",
       "        }    #T_d9d50ea4_a30c_11ec_a04a_b24babf17660row1_col1 {\n",
       "            background-color:  lightblue;\n",
       "        }    #T_d9d50ea4_a30c_11ec_a04a_b24babf17660row1_col2 {\n",
       "            background-color:  lightblue;\n",
       "        }    #T_d9d50ea4_a30c_11ec_a04a_b24babf17660row1_col3 {\n",
       "            background-color:  lightblue;\n",
       "        }    #T_d9d50ea4_a30c_11ec_a04a_b24babf17660row1_col4 {\n",
       "            background-color:  lightblue;\n",
       "        }    #T_d9d50ea4_a30c_11ec_a04a_b24babf17660row1_col5 {\n",
       "            background-color:  lightblue;\n",
       "        }    #T_d9d50ea4_a30c_11ec_a04a_b24babf17660row1_col6 {\n",
       "            background-color:  lightblue;\n",
       "        }    #T_d9d50ea4_a30c_11ec_a04a_b24babf17660row1_col7 {\n",
       "            background-color:  lightblue;\n",
       "        }    #T_d9d50ea4_a30c_11ec_a04a_b24babf17660row1_col8 {\n",
       "            background-color:  lightblue;\n",
       "        }    #T_d9d50ea4_a30c_11ec_a04a_b24babf17660row1_col9 {\n",
       "            background-color:  lightblue;\n",
       "        }    #T_d9d50ea4_a30c_11ec_a04a_b24babf17660row1_col10 {\n",
       "            background-color:  lightblue;\n",
       "        }    #T_d9d50ea4_a30c_11ec_a04a_b24babf17660row2_col0 {\n",
       "            background-color:  white;\n",
       "        }    #T_d9d50ea4_a30c_11ec_a04a_b24babf17660row2_col1 {\n",
       "            background-color:  white;\n",
       "        }    #T_d9d50ea4_a30c_11ec_a04a_b24babf17660row2_col2 {\n",
       "            background-color:  white;\n",
       "        }    #T_d9d50ea4_a30c_11ec_a04a_b24babf17660row2_col3 {\n",
       "            background-color:  white;\n",
       "        }    #T_d9d50ea4_a30c_11ec_a04a_b24babf17660row2_col4 {\n",
       "            background-color:  white;\n",
       "        }    #T_d9d50ea4_a30c_11ec_a04a_b24babf17660row2_col5 {\n",
       "            background-color:  white;\n",
       "        }    #T_d9d50ea4_a30c_11ec_a04a_b24babf17660row2_col6 {\n",
       "            background-color:  white;\n",
       "        }    #T_d9d50ea4_a30c_11ec_a04a_b24babf17660row2_col7 {\n",
       "            background-color:  white;\n",
       "        }    #T_d9d50ea4_a30c_11ec_a04a_b24babf17660row2_col8 {\n",
       "            background-color:  white;\n",
       "        }    #T_d9d50ea4_a30c_11ec_a04a_b24babf17660row2_col9 {\n",
       "            background-color:  white;\n",
       "        }    #T_d9d50ea4_a30c_11ec_a04a_b24babf17660row2_col10 {\n",
       "            background-color:  white;\n",
       "        }    #T_d9d50ea4_a30c_11ec_a04a_b24babf17660row3_col0 {\n",
       "            background-color:  white;\n",
       "        }    #T_d9d50ea4_a30c_11ec_a04a_b24babf17660row3_col1 {\n",
       "            background-color:  white;\n",
       "        }    #T_d9d50ea4_a30c_11ec_a04a_b24babf17660row3_col2 {\n",
       "            background-color:  white;\n",
       "        }    #T_d9d50ea4_a30c_11ec_a04a_b24babf17660row3_col3 {\n",
       "            background-color:  white;\n",
       "        }    #T_d9d50ea4_a30c_11ec_a04a_b24babf17660row3_col4 {\n",
       "            background-color:  white;\n",
       "        }    #T_d9d50ea4_a30c_11ec_a04a_b24babf17660row3_col5 {\n",
       "            background-color:  white;\n",
       "        }    #T_d9d50ea4_a30c_11ec_a04a_b24babf17660row3_col6 {\n",
       "            background-color:  white;\n",
       "        }    #T_d9d50ea4_a30c_11ec_a04a_b24babf17660row3_col7 {\n",
       "            background-color:  white;\n",
       "        }    #T_d9d50ea4_a30c_11ec_a04a_b24babf17660row3_col8 {\n",
       "            background-color:  white;\n",
       "        }    #T_d9d50ea4_a30c_11ec_a04a_b24babf17660row3_col9 {\n",
       "            background-color:  white;\n",
       "        }    #T_d9d50ea4_a30c_11ec_a04a_b24babf17660row3_col10 {\n",
       "            background-color:  white;\n",
       "        }    #T_d9d50ea4_a30c_11ec_a04a_b24babf17660row4_col0 {\n",
       "            background-color:  lightblue;\n",
       "        }    #T_d9d50ea4_a30c_11ec_a04a_b24babf17660row4_col1 {\n",
       "            background-color:  lightblue;\n",
       "        }    #T_d9d50ea4_a30c_11ec_a04a_b24babf17660row4_col2 {\n",
       "            background-color:  lightblue;\n",
       "        }    #T_d9d50ea4_a30c_11ec_a04a_b24babf17660row4_col3 {\n",
       "            background-color:  lightblue;\n",
       "        }    #T_d9d50ea4_a30c_11ec_a04a_b24babf17660row4_col4 {\n",
       "            background-color:  lightblue;\n",
       "        }    #T_d9d50ea4_a30c_11ec_a04a_b24babf17660row4_col5 {\n",
       "            background-color:  lightblue;\n",
       "        }    #T_d9d50ea4_a30c_11ec_a04a_b24babf17660row4_col6 {\n",
       "            background-color:  lightblue;\n",
       "        }    #T_d9d50ea4_a30c_11ec_a04a_b24babf17660row4_col7 {\n",
       "            background-color:  lightblue;\n",
       "        }    #T_d9d50ea4_a30c_11ec_a04a_b24babf17660row4_col8 {\n",
       "            background-color:  lightblue;\n",
       "        }    #T_d9d50ea4_a30c_11ec_a04a_b24babf17660row4_col9 {\n",
       "            background-color:  lightblue;\n",
       "        }    #T_d9d50ea4_a30c_11ec_a04a_b24babf17660row4_col10 {\n",
       "            background-color:  lightblue;\n",
       "        }    #T_d9d50ea4_a30c_11ec_a04a_b24babf17660row5_col0 {\n",
       "            background-color:  white;\n",
       "        }    #T_d9d50ea4_a30c_11ec_a04a_b24babf17660row5_col1 {\n",
       "            background-color:  white;\n",
       "        }    #T_d9d50ea4_a30c_11ec_a04a_b24babf17660row5_col2 {\n",
       "            background-color:  white;\n",
       "        }    #T_d9d50ea4_a30c_11ec_a04a_b24babf17660row5_col3 {\n",
       "            background-color:  white;\n",
       "        }    #T_d9d50ea4_a30c_11ec_a04a_b24babf17660row5_col4 {\n",
       "            background-color:  white;\n",
       "        }    #T_d9d50ea4_a30c_11ec_a04a_b24babf17660row5_col5 {\n",
       "            background-color:  white;\n",
       "        }    #T_d9d50ea4_a30c_11ec_a04a_b24babf17660row5_col6 {\n",
       "            background-color:  white;\n",
       "        }    #T_d9d50ea4_a30c_11ec_a04a_b24babf17660row5_col7 {\n",
       "            background-color:  white;\n",
       "        }    #T_d9d50ea4_a30c_11ec_a04a_b24babf17660row5_col8 {\n",
       "            background-color:  white;\n",
       "        }    #T_d9d50ea4_a30c_11ec_a04a_b24babf17660row5_col9 {\n",
       "            background-color:  white;\n",
       "        }    #T_d9d50ea4_a30c_11ec_a04a_b24babf17660row5_col10 {\n",
       "            background-color:  white;\n",
       "        }    #T_d9d50ea4_a30c_11ec_a04a_b24babf17660row6_col0 {\n",
       "            background-color:  white;\n",
       "        }    #T_d9d50ea4_a30c_11ec_a04a_b24babf17660row6_col1 {\n",
       "            background-color:  white;\n",
       "        }    #T_d9d50ea4_a30c_11ec_a04a_b24babf17660row6_col2 {\n",
       "            background-color:  white;\n",
       "        }    #T_d9d50ea4_a30c_11ec_a04a_b24babf17660row6_col3 {\n",
       "            background-color:  white;\n",
       "        }    #T_d9d50ea4_a30c_11ec_a04a_b24babf17660row6_col4 {\n",
       "            background-color:  white;\n",
       "        }    #T_d9d50ea4_a30c_11ec_a04a_b24babf17660row6_col5 {\n",
       "            background-color:  white;\n",
       "        }    #T_d9d50ea4_a30c_11ec_a04a_b24babf17660row6_col6 {\n",
       "            background-color:  white;\n",
       "        }    #T_d9d50ea4_a30c_11ec_a04a_b24babf17660row6_col7 {\n",
       "            background-color:  white;\n",
       "        }    #T_d9d50ea4_a30c_11ec_a04a_b24babf17660row6_col8 {\n",
       "            background-color:  white;\n",
       "        }    #T_d9d50ea4_a30c_11ec_a04a_b24babf17660row6_col9 {\n",
       "            background-color:  white;\n",
       "        }    #T_d9d50ea4_a30c_11ec_a04a_b24babf17660row6_col10 {\n",
       "            background-color:  white;\n",
       "        }</style><table id=\"T_d9d50ea4_a30c_11ec_a04a_b24babf17660\" ><thead>    <tr>        <th class=\"blank level0\" ></th>        <th class=\"col_heading level0 col0\" >routeid</th>        <th class=\"col_heading level0 col1\" >vehicleid</th>        <th class=\"col_heading level0 col2\" >datetime</th>        <th class=\"col_heading level0 col3\" >lat</th>        <th class=\"col_heading level0 col4\" >lon</th>        <th class=\"col_heading level0 col5\" >geom</th>        <th class=\"col_heading level0 col6\" >velocity</th>        <th class=\"col_heading level0 col7\" >bearing</th>        <th class=\"col_heading level0 col8\" >acceleration</th>        <th class=\"col_heading level0 col9\" >distance_from_prev</th>        <th class=\"col_heading level0 col10\" >temporal_difference_from_prev</th>    </tr></thead><tbody>\n",
       "                <tr>\n",
       "                        <th id=\"T_d9d50ea4_a30c_11ec_a04a_b24babf17660level0_row0\" class=\"row_heading level0 row0\" >227</th>\n",
       "                        <td id=\"T_d9d50ea4_a30c_11ec_a04a_b24babf17660row0_col0\" class=\"data row0 col0\" >1962</td>\n",
       "                        <td id=\"T_d9d50ea4_a30c_11ec_a04a_b24babf17660row0_col1\" class=\"data row0 col1\" >7001</td>\n",
       "                        <td id=\"T_d9d50ea4_a30c_11ec_a04a_b24babf17660row0_col2\" class=\"data row0 col2\" >2020-04-05 06:37:10</td>\n",
       "                        <td id=\"T_d9d50ea4_a30c_11ec_a04a_b24babf17660row0_col3\" class=\"data row0 col3\" >38.033134</td>\n",
       "                        <td id=\"T_d9d50ea4_a30c_11ec_a04a_b24babf17660row0_col4\" class=\"data row0 col4\" >23.693232</td>\n",
       "                        <td id=\"T_d9d50ea4_a30c_11ec_a04a_b24babf17660row0_col5\" class=\"data row0 col5\" >POINT (23.693232000000002 38.033134000000004)</td>\n",
       "                        <td id=\"T_d9d50ea4_a30c_11ec_a04a_b24babf17660row0_col6\" class=\"data row0 col6\" >8.264836</td>\n",
       "                        <td id=\"T_d9d50ea4_a30c_11ec_a04a_b24babf17660row0_col7\" class=\"data row0 col7\" >179.955808</td>\n",
       "                        <td id=\"T_d9d50ea4_a30c_11ec_a04a_b24babf17660row0_col8\" class=\"data row0 col8\" >-0.645617</td>\n",
       "                        <td id=\"T_d9d50ea4_a30c_11ec_a04a_b24babf17660row0_col9\" class=\"data row0 col9\" >0.607984</td>\n",
       "                        <td id=\"T_d9d50ea4_a30c_11ec_a04a_b24babf17660row0_col10\" class=\"data row0 col10\" >0 days 00:12:52</td>\n",
       "            </tr>\n",
       "            <tr>\n",
       "                        <th id=\"T_d9d50ea4_a30c_11ec_a04a_b24babf17660level0_row1\" class=\"row_heading level0 row1\" >228</th>\n",
       "                        <td id=\"T_d9d50ea4_a30c_11ec_a04a_b24babf17660row1_col0\" class=\"data row1 col0\" >1962</td>\n",
       "                        <td id=\"T_d9d50ea4_a30c_11ec_a04a_b24babf17660row1_col1\" class=\"data row1 col1\" >7001</td>\n",
       "                        <td id=\"T_d9d50ea4_a30c_11ec_a04a_b24babf17660row1_col2\" class=\"data row1 col2\" >2020-04-05 06:43:04</td>\n",
       "                        <td id=\"T_d9d50ea4_a30c_11ec_a04a_b24babf17660row1_col3\" class=\"data row1 col3\" >38.019598</td>\n",
       "                        <td id=\"T_d9d50ea4_a30c_11ec_a04a_b24babf17660row1_col4\" class=\"data row1 col4\" >23.693243</td>\n",
       "                        <td id=\"T_d9d50ea4_a30c_11ec_a04a_b24babf17660row1_col5\" class=\"data row1 col5\" >POINT (23.693243 38.019597999999995)</td>\n",
       "                        <td id=\"T_d9d50ea4_a30c_11ec_a04a_b24babf17660row1_col6\" class=\"data row1 col6\" >236.813330</td>\n",
       "                        <td id=\"T_d9d50ea4_a30c_11ec_a04a_b24babf17660row1_col7\" class=\"data row1 col7\" >156.786789</td>\n",
       "                        <td id=\"T_d9d50ea4_a30c_11ec_a04a_b24babf17660row1_col8\" class=\"data row1 col8\" >19.574330</td>\n",
       "                        <td id=\"T_d9d50ea4_a30c_11ec_a04a_b24babf17660row1_col9\" class=\"data row1 col9\" >1.529026</td>\n",
       "                        <td id=\"T_d9d50ea4_a30c_11ec_a04a_b24babf17660row1_col10\" class=\"data row1 col10\" >0 days 00:05:54</td>\n",
       "            </tr>\n",
       "            <tr>\n",
       "                        <th id=\"T_d9d50ea4_a30c_11ec_a04a_b24babf17660level0_row2\" class=\"row_heading level0 row2\" >229</th>\n",
       "                        <td id=\"T_d9d50ea4_a30c_11ec_a04a_b24babf17660row2_col0\" class=\"data row2 col0\" >1962</td>\n",
       "                        <td id=\"T_d9d50ea4_a30c_11ec_a04a_b24babf17660row2_col1\" class=\"data row2 col1\" >7001</td>\n",
       "                        <td id=\"T_d9d50ea4_a30c_11ec_a04a_b24babf17660row2_col2\" class=\"data row2 col2\" >2020-04-05 06:43:16</td>\n",
       "                        <td id=\"T_d9d50ea4_a30c_11ec_a04a_b24babf17660row2_col3\" class=\"data row2 col3\" >38.007206</td>\n",
       "                        <td id=\"T_d9d50ea4_a30c_11ec_a04a_b24babf17660row2_col4\" class=\"data row2 col4\" >23.698818</td>\n",
       "                        <td id=\"T_d9d50ea4_a30c_11ec_a04a_b24babf17660row2_col5\" class=\"data row2 col5\" >POINT (23.698818 38.007206)</td>\n",
       "                        <td id=\"T_d9d50ea4_a30c_11ec_a04a_b24babf17660row2_col6\" class=\"data row2 col6\" >1.921365</td>\n",
       "                        <td id=\"T_d9d50ea4_a30c_11ec_a04a_b24babf17660row2_col7\" class=\"data row2 col7\" >44.041044</td>\n",
       "                        <td id=\"T_d9d50ea4_a30c_11ec_a04a_b24babf17660row2_col8\" class=\"data row2 col8\" >-0.016359</td>\n",
       "                        <td id=\"T_d9d50ea4_a30c_11ec_a04a_b24babf17660row2_col9\" class=\"data row2 col9\" >1.590702</td>\n",
       "                        <td id=\"T_d9d50ea4_a30c_11ec_a04a_b24babf17660row2_col10\" class=\"data row2 col10\" >0 days 00:00:12</td>\n",
       "            </tr>\n",
       "            <tr>\n",
       "                        <th id=\"T_d9d50ea4_a30c_11ec_a04a_b24babf17660level0_row3\" class=\"row_heading level0 row3\" >606</th>\n",
       "                        <td id=\"T_d9d50ea4_a30c_11ec_a04a_b24babf17660row3_col0\" class=\"data row3 col0\" >2019</td>\n",
       "                        <td id=\"T_d9d50ea4_a30c_11ec_a04a_b24babf17660row3_col1\" class=\"data row3 col1\" >7001</td>\n",
       "                        <td id=\"T_d9d50ea4_a30c_11ec_a04a_b24babf17660row3_col2\" class=\"data row3 col2\" >2020-04-08 20:03:41</td>\n",
       "                        <td id=\"T_d9d50ea4_a30c_11ec_a04a_b24babf17660row3_col3\" class=\"data row3 col3\" >37.966209</td>\n",
       "                        <td id=\"T_d9d50ea4_a30c_11ec_a04a_b24babf17660row3_col4\" class=\"data row3 col4\" >23.728943</td>\n",
       "                        <td id=\"T_d9d50ea4_a30c_11ec_a04a_b24babf17660row3_col5\" class=\"data row3 col5\" >POINT (23.728943 37.966209)</td>\n",
       "                        <td id=\"T_d9d50ea4_a30c_11ec_a04a_b24babf17660row3_col6\" class=\"data row3 col6\" >13.315916</td>\n",
       "                        <td id=\"T_d9d50ea4_a30c_11ec_a04a_b24babf17660row3_col7\" class=\"data row3 col7\" >14.629306</td>\n",
       "                        <td id=\"T_d9d50ea4_a30c_11ec_a04a_b24babf17660row3_col8\" class=\"data row3 col8\" >-0.458236</td>\n",
       "                        <td id=\"T_d9d50ea4_a30c_11ec_a04a_b24babf17660row3_col9\" class=\"data row3 col9\" >6.899414</td>\n",
       "                        <td id=\"T_d9d50ea4_a30c_11ec_a04a_b24babf17660row3_col10\" class=\"data row3 col10\" >0 days 00:04:48</td>\n",
       "            </tr>\n",
       "            <tr>\n",
       "                        <th id=\"T_d9d50ea4_a30c_11ec_a04a_b24babf17660level0_row4\" class=\"row_heading level0 row4\" >607</th>\n",
       "                        <td id=\"T_d9d50ea4_a30c_11ec_a04a_b24babf17660row4_col0\" class=\"data row4 col0\" >2019</td>\n",
       "                        <td id=\"T_d9d50ea4_a30c_11ec_a04a_b24babf17660row4_col1\" class=\"data row4 col1\" >7001</td>\n",
       "                        <td id=\"T_d9d50ea4_a30c_11ec_a04a_b24babf17660row4_col2\" class=\"data row4 col2\" >2020-04-08 20:07:39</td>\n",
       "                        <td id=\"T_d9d50ea4_a30c_11ec_a04a_b24babf17660row4_col3\" class=\"data row4 col3\" >37.980546</td>\n",
       "                        <td id=\"T_d9d50ea4_a30c_11ec_a04a_b24babf17660row4_col4\" class=\"data row4 col4\" >23.732839</td>\n",
       "                        <td id=\"T_d9d50ea4_a30c_11ec_a04a_b24babf17660row4_col5\" class=\"data row4 col5\" >POINT (23.732839000000002 37.980546000000004)</td>\n",
       "                        <td id=\"T_d9d50ea4_a30c_11ec_a04a_b24babf17660row4_col6\" class=\"data row4 col6\" >122.376105</td>\n",
       "                        <td id=\"T_d9d50ea4_a30c_11ec_a04a_b24babf17660row4_col7\" class=\"data row4 col7\" >299.932566</td>\n",
       "                        <td id=\"T_d9d50ea4_a30c_11ec_a04a_b24babf17660row4_col8\" class=\"data row4 col8\" >5.822709</td>\n",
       "                        <td id=\"T_d9d50ea4_a30c_11ec_a04a_b24babf17660row4_col9\" class=\"data row4 col9\" >0.516016</td>\n",
       "                        <td id=\"T_d9d50ea4_a30c_11ec_a04a_b24babf17660row4_col10\" class=\"data row4 col10\" >0 days 00:03:58</td>\n",
       "            </tr>\n",
       "            <tr>\n",
       "                        <th id=\"T_d9d50ea4_a30c_11ec_a04a_b24babf17660level0_row5\" class=\"row_heading level0 row5\" >608</th>\n",
       "                        <td id=\"T_d9d50ea4_a30c_11ec_a04a_b24babf17660row5_col0\" class=\"data row5 col0\" >2019</td>\n",
       "                        <td id=\"T_d9d50ea4_a30c_11ec_a04a_b24babf17660row5_col1\" class=\"data row5 col1\" >7001</td>\n",
       "                        <td id=\"T_d9d50ea4_a30c_11ec_a04a_b24babf17660row5_col2\" class=\"data row5 col2\" >2020-04-08 20:08:00</td>\n",
       "                        <td id=\"T_d9d50ea4_a30c_11ec_a04a_b24babf17660row5_col3\" class=\"data row5 col3\" >37.987353</td>\n",
       "                        <td id=\"T_d9d50ea4_a30c_11ec_a04a_b24babf17660row5_col4\" class=\"data row5 col4\" >23.720471</td>\n",
       "                        <td id=\"T_d9d50ea4_a30c_11ec_a04a_b24babf17660row5_col5\" class=\"data row5 col5\" >POINT (23.720471 37.987353000000006)</td>\n",
       "                        <td id=\"T_d9d50ea4_a30c_11ec_a04a_b24babf17660row5_col6\" class=\"data row5 col6\" >0.099212</td>\n",
       "                        <td id=\"T_d9d50ea4_a30c_11ec_a04a_b24babf17660row5_col7\" class=\"data row5 col7\" >324.505023</td>\n",
       "                        <td id=\"T_d9d50ea4_a30c_11ec_a04a_b24babf17660row5_col8\" class=\"data row5 col8\" >-0.000017</td>\n",
       "                        <td id=\"T_d9d50ea4_a30c_11ec_a04a_b24babf17660row5_col9\" class=\"data row5 col9\" >1.642794</td>\n",
       "                        <td id=\"T_d9d50ea4_a30c_11ec_a04a_b24babf17660row5_col10\" class=\"data row5 col10\" >0 days 00:00:21</td>\n",
       "            </tr>\n",
       "            <tr>\n",
       "                        <th id=\"T_d9d50ea4_a30c_11ec_a04a_b24babf17660level0_row6\" class=\"row_heading level0 row6\" >805</th>\n",
       "                        <td id=\"T_d9d50ea4_a30c_11ec_a04a_b24babf17660row6_col0\" class=\"data row6 col0\" >2013</td>\n",
       "                        <td id=\"T_d9d50ea4_a30c_11ec_a04a_b24babf17660row6_col1\" class=\"data row6 col1\" >7001</td>\n",
       "                        <td id=\"T_d9d50ea4_a30c_11ec_a04a_b24babf17660row6_col2\" class=\"data row6 col2\" >2020-04-13 15:38:05</td>\n",
       "                        <td id=\"T_d9d50ea4_a30c_11ec_a04a_b24babf17660row6_col3\" class=\"data row6 col3\" >37.995425</td>\n",
       "                        <td id=\"T_d9d50ea4_a30c_11ec_a04a_b24babf17660row6_col4\" class=\"data row6 col4\" >23.750192</td>\n",
       "                        <td id=\"T_d9d50ea4_a30c_11ec_a04a_b24babf17660row6_col5\" class=\"data row6 col5\" >POINT (23.750192000000002 37.995425)</td>\n",
       "                        <td id=\"T_d9d50ea4_a30c_11ec_a04a_b24babf17660row6_col6\" class=\"data row6 col6\" >13.116899</td>\n",
       "                        <td id=\"T_d9d50ea4_a30c_11ec_a04a_b24babf17660row6_col7\" class=\"data row6 col7\" >250.427789</td>\n",
       "                        <td id=\"T_d9d50ea4_a30c_11ec_a04a_b24babf17660row6_col8\" class=\"data row6 col8\" >-0.578169</td>\n",
       "                        <td id=\"T_d9d50ea4_a30c_11ec_a04a_b24babf17660row6_col9\" class=\"data row6 col9\" >1.536182</td>\n",
       "                        <td id=\"T_d9d50ea4_a30c_11ec_a04a_b24babf17660row6_col10\" class=\"data row6 col10\" >0 days 00:04:40</td>\n",
       "            </tr>\n",
       "    </tbody></table>"
      ],
      "text/plain": [
       "<pandas.io.formats.style.Styler at 0x7feac9a51090>"
      ]
     },
     "execution_count": 35,
     "metadata": {},
     "output_type": "execute_result"
    }
   ],
   "source": [
    "# 54 knots = 100 kph\n",
    "curr_pts = vehicle_traj_gdf[vehicle_traj_gdf.velocity >= 54].index\n",
    "prev_pts = vehicle_traj_gdf[vehicle_traj_gdf.velocity >= 54].index - 1\n",
    "next_pts = vehicle_traj_gdf[vehicle_traj_gdf.velocity >= 54].index + 1\n",
    "\n",
    "sub_traj_of_interest = vehicle_traj_gdf.loc[np.sort(np.concatenate((prev_pts, next_pts, curr_pts)))].drop_duplicates(subset=['vehicleid', 'datetime'])\n",
    "sub_traj_of_interest.head(7).style.apply(lambda l: helper.highlight_outliers(l, curr_pts), axis=1)"
   ]
  },
  {
   "cell_type": "markdown",
   "metadata": {},
   "source": [
    "### Remove the Outliers"
   ]
  },
  {
   "cell_type": "code",
   "execution_count": 36,
   "metadata": {},
   "outputs": [],
   "source": [
    "trajectories = trajectories.loc[trajectories.velocity < 54].copy()\n",
    "trajectories.reset_index(drop=True, inplace=True)"
   ]
  },
  {
   "cell_type": "markdown",
   "metadata": {
    "tags": []
   },
   "source": [
    "### Apply R-Tree Spatial Index"
   ]
  },
  {
   "cell_type": "code",
   "execution_count": 22,
   "metadata": {},
   "outputs": [],
   "source": [
    "sindex = trajectories.sindex"
   ]
  },
  {
   "cell_type": "markdown",
   "metadata": {},
   "source": [
    "### Select routes which exists in table TRAJECTORIES"
   ]
  },
  {
   "cell_type": "code",
   "execution_count": 23,
   "metadata": {},
   "outputs": [],
   "source": [
    "routes = routes[routes.shape_id.isin(trajectories.routeid)].reset_index(drop=True)\n",
    "routes.drop_duplicates(['shape_id', 'geom'], inplace=True)"
   ]
  },
  {
   "cell_type": "markdown",
   "metadata": {
    "tags": []
   },
   "source": [
    "### Save Tables"
   ]
  },
  {
   "cell_type": "code",
   "execution_count": 24,
   "metadata": {},
   "outputs": [],
   "source": [
    "trajectories.to_csv('meta_trajectories.csv', index=False)\n",
    "routes.to_csv('meta_routes.csv', index=False)\n",
    "stops.to_csv('meta_stops.csv', index=False)"
   ]
  },
  {
   "cell_type": "code",
   "execution_count": 25,
   "metadata": {},
   "outputs": [
    {
     "name": "stdout",
     "output_type": "stream",
     "text": [
      "<class 'geopandas.geodataframe.GeoDataFrame'>\n",
      "RangeIndex: 1337595 entries, 0 to 1337594\n",
      "Data columns (total 9 columns):\n",
      " #   Column        Non-Null Count    Dtype         \n",
      "---  ------        --------------    -----         \n",
      " 0   routeid       1337595 non-null  int64         \n",
      " 1   vehicleid     1337595 non-null  int64         \n",
      " 2   datetime      1337595 non-null  datetime64[ns]\n",
      " 3   lat           1337595 non-null  float64       \n",
      " 4   lon           1337595 non-null  float64       \n",
      " 5   geom          1337595 non-null  geometry      \n",
      " 6   velocity      1337595 non-null  float64       \n",
      " 7   bearing       1337595 non-null  float64       \n",
      " 8   acceleration  1337595 non-null  float64       \n",
      "dtypes: datetime64[ns](1), float64(5), geometry(1), int64(2)\n",
      "memory usage: 91.8 MB\n"
     ]
    }
   ],
   "source": [
    "trajectories.info()"
   ]
  },
  {
   "cell_type": "markdown",
   "metadata": {},
   "source": [
    "# <center>Statistics & Visualization</center>"
   ]
  },
  {
   "cell_type": "markdown",
   "metadata": {},
   "source": [
    "### Number of vehicles in _TRAJECTORIES_ table"
   ]
  },
  {
   "cell_type": "code",
   "execution_count": 26,
   "metadata": {},
   "outputs": [
    {
     "data": {
      "text/plain": [
       "1350"
      ]
     },
     "execution_count": 26,
     "metadata": {},
     "output_type": "execute_result"
    }
   ],
   "source": [
    "len(trajectories.vehicleid.unique())"
   ]
  },
  {
   "cell_type": "markdown",
   "metadata": {},
   "source": [
    "### Average Number of BUSES signals per day"
   ]
  },
  {
   "cell_type": "code",
   "execution_count": 27,
   "metadata": {},
   "outputs": [
    {
     "data": {
      "image/png": "[encoded data removed]",
      "text/plain": [
       "<Figure size 1152x360 with 1 Axes>"
      ]
     },
     "metadata": {
      "needs_background": "light"
     },
     "output_type": "display_data"
    }
   ],
   "source": [
    "average_number_of_buses_signals_per_day = trajectories.groupby([pd.to_datetime(trajectories.datetime,unit=\"s\").dt.date]).apply(len)\n",
    "average_number_of_buses_signals_per_day.head()\n",
    "\n",
    "plt.figure(figsize=(16, 5))\n",
    "plt.title('Average Number of BUSES signals per day')\n",
    "average_number_of_buses_signals_per_day.plot(kind='bar')\n",
    "plt.show()"
   ]
  },
  {
   "cell_type": "markdown",
   "metadata": {},
   "source": [
    "### Number of records per bus (vehicleid column)"
   ]
  },
  {
   "cell_type": "code",
   "execution_count": 28,
   "metadata": {},
   "outputs": [
    {
     "data": {
      "image/png": "[encoded data removed]",
      "text/plain": [
       "<Figure size 1152x360 with 1 Axes>"
      ]
     },
     "metadata": {
      "needs_background": "light"
     },
     "output_type": "display_data"
    }
   ],
   "source": [
    "number_of_records_per_bus = trajectories.groupby('vehicleid').apply(len)\n",
    "number_of_records_per_bus.head()\n",
    "\n",
    "out = pd.cut(number_of_records_per_bus, 12) \n",
    "ax = out.value_counts(sort=False).plot.bar(figsize=(16,5), rot=60)\n",
    "plt.title('Number of records per bus (vehicleid column)')\n",
    "plt.xlabel('Records')\n",
    "plt.ylabel('Buses')\n",
    "plt.show()"
   ]
  },
  {
   "cell_type": "markdown",
   "metadata": {},
   "source": [
    "### Mean number of records per Vehicle at daily basis"
   ]
  },
  {
   "cell_type": "code",
   "execution_count": 29,
   "metadata": {},
   "outputs": [
    {
     "data": {
      "image/png": "[encoded data removed]",
      "text/plain": [
       "<Figure size 1152x360 with 1 Axes>"
      ]
     },
     "metadata": {
      "needs_background": "light"
     },
     "output_type": "display_data"
    }
   ],
   "source": [
    "number_of_records_per_bus_per_day = trajectories.groupby([trajectories.vehicleid, pd.to_datetime(trajectories.datetime, unit='s').dt.date]).apply(len)\n",
    "number_of_records_per_bus_per_day = number_of_records_per_bus_per_day.groupby('vehicleid').apply(lambda x: x.sum()/len(x))\n",
    "number_of_records_per_bus_per_day.head()\n",
    "\n",
    "out = pd.cut(number_of_records_per_bus_per_day, 12) \n",
    "ax = out.value_counts(sort=False).plot.bar(figsize=(16,5), rot=60)\n",
    "plt.title('Mean number of records per Vehicle at daily basis')\n",
    "plt.xlabel('Records')\n",
    "plt.ylabel('Buses')\n",
    "plt.show()"
   ]
  },
  {
   "cell_type": "markdown",
   "metadata": {},
   "source": [
    "### Number of records per weekday"
   ]
  },
  {
   "cell_type": "code",
   "execution_count": 30,
   "metadata": {},
   "outputs": [
    {
     "data": {
      "image/png": "[encoded data removed]",
      "text/plain": [
       "<Figure size 720x360 with 1 Axes>"
      ]
     },
     "metadata": {
      "needs_background": "light"
     },
     "output_type": "display_data"
    }
   ],
   "source": [
    "num_of_records_per_day = trajectories.groupby([pd.to_datetime(trajectories.datetime, unit=\"s\").dt.date]).apply(len).to_frame().reset_index()\n",
    "num_of_records_per_day.loc[:, 'day_name'] = pd.to_datetime(num_of_records_per_day.datetime).dt.day_name()\n",
    "num_of_records_per_day.loc[:, 'day_name'] = pd.Categorical(num_of_records_per_day.day_name, categories=list(calendar.day_name), ordered=True)\n",
    "num_of_records_per_day.sort_values('day_name', inplace=True)\n",
    "num_of_records_per_day = num_of_records_per_day.groupby('day_name').apply(sum)\n",
    "num_of_records_per_day.drop('day_name', axis=1, inplace=True)\n",
    "\n",
    "num_of_records_per_day.plot.bar(figsize=(10,5), rot=30)\n",
    "plt.title('Number of records per weekday')\n",
    "plt.xlabel('Days')\n",
    "plt.ylabel('Records')\n",
    "plt.show()"
   ]
  },
  {
   "cell_type": "markdown",
   "metadata": {},
   "source": [
    "### Velocity plot"
   ]
  },
  {
   "cell_type": "code",
   "execution_count": 37,
   "metadata": {},
   "outputs": [
    {
     "name": "stderr",
     "output_type": "stream",
     "text": [
      "/Users/Giorgos/opt/anaconda3/envs/tf/lib/python3.7/site-packages/pandas/plotting/_matplotlib/core.py:1192: UserWarning: FixedFormatter should only be used together with FixedLocator\n",
      "  ax.set_xticklabels(xticklabels)\n"
     ]
    },
    {
     "data": {
      "image/png": "[encoded data removed]",
      "text/plain": [
       "<Figure size 864x360 with 1 Axes>"
      ]
     },
     "metadata": {
      "needs_background": "light"
     },
     "output_type": "display_data"
    }
   ],
   "source": [
    "out = pd.cut(trajectories.velocity, [0, 10, 20, 30, 40, np.round(trajectories.velocity.max()), np.round(trajectories.velocity.max())+2])\n",
    "ax = out.value_counts(sort=False).plot.area(figsize=(12,5))\n",
    "ax.set_xticklabels([''] + out.cat.categories.left.values.astype(int).tolist() + [''])\n",
    "\n",
    "plt.title('Bus Speed')\n",
    "plt.xlabel('Speed')\n",
    "plt.ylabel('Records')\n",
    "plt.show()"
   ]
  },
  {
   "cell_type": "markdown",
   "metadata": {},
   "source": [
    "### Acceleration plot"
   ]
  },
  {
   "cell_type": "code",
   "execution_count": 32,
   "metadata": {},
   "outputs": [
    {
     "name": "stderr",
     "output_type": "stream",
     "text": [
      "/Users/Giorgos/opt/anaconda3/envs/tf/lib/python3.7/site-packages/pandas/plotting/_matplotlib/core.py:1192: UserWarning: FixedFormatter should only be used together with FixedLocator\n",
      "  ax.set_xticklabels(xticklabels)\n"
     ]
    },
    {
     "data": {
      "image/png": "[encoded data removed]",
      "text/plain": [
       "<Figure size 864x360 with 1 Axes>"
      ]
     },
     "metadata": {
      "needs_background": "light"
     },
     "output_type": "display_data"
    }
   ],
   "source": [
    "no_of_bins=[-2900, -10, -2, -0.5, -0.25, -0.1, 0, 0.1, 0.25, 0.5, 2, 10, 94] \n",
    "\n",
    "\n",
    "out = pd.cut(trajectories.acceleration, no_of_bins)\n",
    "ax = out.value_counts(sort=False).plot.area(figsize=(12, 5))\n",
    "\n",
    "plt.title('Bus Acceleration')\n",
    "plt.xlabel('Acceleration (knots/s)')\n",
    "plt.ylabel('Records')\n",
    "plt.show()"
   ]
  },
  {
   "cell_type": "markdown",
   "metadata": {},
   "source": [
    "### Bearing plot"
   ]
  },
  {
   "cell_type": "code",
   "execution_count": 33,
   "metadata": {},
   "outputs": [
    {
     "data": {
      "image/png": "[encoded data removed]",
      "text/plain": [
       "<Figure size 864x360 with 1 Axes>"
      ]
     },
     "metadata": {
      "needs_background": "light"
     },
     "output_type": "display_data"
    },
    {
     "data": {
      "image/png": "[encoded data removed]",
      "text/plain": [
       "<Figure size 864x360 with 1 Axes>"
      ]
     },
     "metadata": {
      "needs_background": "light"
     },
     "output_type": "display_data"
    },
    {
     "name": "stderr",
     "output_type": "stream",
     "text": [
      "ERROR:tornado.application:Uncaught exception GET /ws (::1)\n",
      "HTTPServerRequest(protocol='http', host='localhost:51265', method='GET', uri='/ws', version='HTTP/1.1', remote_ip='::1')\n",
      "Traceback (most recent call last):\n",
      "  File \"/Users/Giorgos/opt/anaconda3/envs/tf/lib/python3.7/site-packages/tornado/websocket.py\", line 954, in _accept_connection\n",
      "    open_result = handler.open(*handler.open_args, **handler.open_kwargs)\n",
      "  File \"/Users/Giorgos/opt/anaconda3/envs/tf/lib/python3.7/site-packages/bokeh/server/views/ws.py\", line 135, in open\n",
      "    raise ProtocolError(\"Token is expired.\")\n",
      "bokeh.protocol.exceptions.ProtocolError: Token is expired.\n",
      "ERROR:tornado.application:Uncaught exception GET /ws (::1)\n",
      "HTTPServerRequest(protocol='http', host='localhost:51265', method='GET', uri='/ws', version='HTTP/1.1', remote_ip='::1')\n",
      "Traceback (most recent call last):\n",
      "  File \"/Users/Giorgos/opt/anaconda3/envs/tf/lib/python3.7/site-packages/tornado/websocket.py\", line 954, in _accept_connection\n",
      "    open_result = handler.open(*handler.open_args, **handler.open_kwargs)\n",
      "  File \"/Users/Giorgos/opt/anaconda3/envs/tf/lib/python3.7/site-packages/bokeh/server/views/ws.py\", line 135, in open\n",
      "    raise ProtocolError(\"Token is expired.\")\n",
      "bokeh.protocol.exceptions.ProtocolError: Token is expired.\n"
     ]
    }
   ],
   "source": [
    "plt.rcParams.update({'font.size': 8})\n",
    "plt.rcParams[\"figure.figsize\"] = [12, 5]\n",
    "\n",
    "bins_number = 24  # the [0, 360) interval will be subdivided into this number of equal bins\n",
    "degree_intervals = 15\n",
    "\n",
    "fig, ax = plt.subplots()\n",
    "ax, lines, labels = helper.create_radial_chart(ax, trajectories, bins_number, degree_intervals)\n",
    "\n",
    "ax.legend([r'#records (x$10^6$)'], frameon=False, fancybox=False, shadow=False, loc='lower center', bbox_to_anchor=(0.5, -0.25))\n",
    "plt.show()"
   ]
  },
  {
   "cell_type": "code",
   "execution_count": null,
   "metadata": {},
   "outputs": [],
   "source": []
  }
 ],
 "metadata": {
  "kernelspec": {
   "display_name": "Python 3.7.11 ('tf')",
   "language": "python",
   "name": "python3711jvsc74a57bd0d4a6d84574db9e34e31b66f980de36a5f87e0d5c29364ae82a389cf8be3f28e6"
  },
  "language_info": {
   "codemirror_mode": {
    "name": "ipython",
    "version": 3
   },
   "file_extension": ".py",
   "mimetype": "text/x-python",
   "name": "python",
   "nbconvert_exporter": "python",
   "pygments_lexer": "ipython3",
   "version": "3.7.11"
  }
 },
 "nbformat": 4,
 "nbformat_minor": 4
}
